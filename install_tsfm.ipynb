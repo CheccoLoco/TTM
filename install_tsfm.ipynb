{
 "cells": [
  {
   "cell_type": "markdown",
   "metadata": {},
   "source": [
    "# Get model, install prereqs"
   ]
  },
  {
   "cell_type": "code",
   "execution_count": null,
   "metadata": {},
   "outputs": [],
   "source": [
    "#Installation\n",
    "\n",
    "# Clone the ibm/tsfm\n",
    "! git clone https://github.com/IBM/tsfm.git\n",
    "\n",
    "# Change directory. Move inside the tsfm repo.\n",
    "%cd tsfm\n",
    "\n",
    "# Relax requirement for python version < 3.12\n",
    "! sed -i.orig 's/3\\.12/3.13/g' pyproject.toml\n",
    "\n",
    "# Install the tsfm library\n",
    "#! pip install \".[notebooks]\"\n",
    "#! python3 -m pip install \".[notebooks]\"\n",
    "! pip3 install \".[notebooks]\""
   ]
  }
 ],
 "metadata": {
  "language_info": {
   "name": "python"
  }
 },
 "nbformat": 4,
 "nbformat_minor": 2
}
